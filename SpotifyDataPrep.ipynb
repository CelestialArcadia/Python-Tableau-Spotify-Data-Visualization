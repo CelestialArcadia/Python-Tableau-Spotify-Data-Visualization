{
 "cells": [
  {
   "cell_type": "markdown",
   "metadata": {},
   "source": [
    "# Preparing Spotify Data for Tableau"
   ]
  },
  {
   "cell_type": "code",
   "execution_count": null,
   "metadata": {},
   "outputs": [],
   "source": [
    "import pandas as pd\n",
    "import numpy as np\n",
    "import requests"
   ]
  },
  {
   "cell_type": "markdown",
   "metadata": {},
   "source": [
    "# Creating Streaming/Library Dataframe"
   ]
  },
  {
   "cell_type": "code",
   "execution_count": 1,
   "metadata": {},
   "outputs": [],
   "source": [
    "# Reading my 1+ StreamingHistory files\n",
    "# (Depending on how extensive the streaming is)\n",
    "# into pandas dataframes\n",
    "\n",
    "df_streamAlpha = pd.read_json('StreamingHistory0.json')\n",
    "df_streamBeta = pd.read_json('StreamingHistory1.json')\n",
    "\n",
    "# Merging streaming dataframes\n",
    "df_stream = pd.concat([df_streamAlpha,df_streamBeta])\n",
    "\n",
    "# Creating a 'UniqueId' for each song by combining the fields 'artistName' and 'trackName'\n",
    "df_stream['UniqueID'] = df_stream['artistName'] + \":\" + df_stream['trackName']\n",
    "\n",
    "df_stream.head()"
   ]
  },
  {
   "cell_type": "code",
   "execution_count": null,
   "metadata": {},
   "outputs": [],
   "source": [
    "# Reading my edited Library json file into a pandas dataframe\n",
    "df_library = pd.read_json('YourLibrary1.json')\n",
    "\n",
    "# Adding UniqueID column\n",
    "df_library['UniqueID'] = df_library['artist'] + \":\" + df_library['track']\n",
    "\n",
    "# Adding column with track URI stripped of 'spotify:track:'\n",
    "new = df_library[\"uri\"].str.split(\":\", expand = True)\n",
    "df_library['track_uri'] = new[2]\n",
    "\n",
    "df_library.head()"
   ]
  },
  {
   "cell_type": "code",
   "execution_count": null,
   "metadata": {},
   "outputs": [],
   "source": [
    "# Creating a final dict as a copy df_stream\n",
    "df_tableau = df_stream.copy()\n",
    "\n",
    "# Adding column checking if streamed song in library\n",
    "# not used in this project, but could be helpful for cool visualizations\n",
    "df_tableau['In Library'] = np.where(df_tableau['UniqueID'].isin(df_library['UniqueID'].tolist()), 1, 0)\n",
    "\n",
    "# Left join with df_library on UniqueId to bring in album and track_uri\n",
    "df_tableau = pd.merge(df_tableau, df_library[['album','UniqueID', 'track_uri']], how = 'left', on = ['UniqueID'])\n",
    "\n",
    "df_tableau.head()"
   ]
  },
  {
   "cell_type": "markdown",
   "metadata": {},
   "source": [
    "# Creating Genre Dataframe"
   ]
  },
  {
   "cell_type": "code",
   "execution_count": null,
   "metadata": {},
   "outputs": [],
   "source": [
    "# Saving IDs from new project in Spotify Developer Dashboard\n",
    "\n",
    "CLIENT_ID = '****e6bb'\n",
    "CLIENT_SECRET = '****SECRET'"
   ]
  },
  {
   "cell_type": "code",
   "execution_count": null,
   "metadata": {},
   "outputs": [],
   "source": [
    "# Generating access token\n",
    "\n",
    "# Authentication URL\n",
    "\n",
    "# Post\n",
    "auth_response = requests.post(AUTH_URL, {\n",
    "    'grant_type': 'client_credentials',\n",
    "    'client_id': CLIENT_ID,\n",
    "    'client_secret': CLIENT_SECRET,\n",
    "})\n",
    "\n",
    "# Convert the response to JSON\n",
    "auth_response_data = auth_response.json()\n",
    "\n",
    "# save the access token\n",
    "access_token = auth_response_data['access_token']"
   ]
  },
  {
   "cell_type": "code",
   "execution_count": null,
   "metadata": {},
   "outputs": [],
   "source": [
    "# Authenticating all API calls\n",
    "headers = {'Authorizaion': 'Bearer {token}'.format(token = access_token)}"
   ]
  },
  {
   "cell_type": "code",
   "execution_count": null,
   "metadata": {},
   "outputs": [],
   "source": [
    "# Base URL of all Spotify API endpoints\n",
    "BASE_URL = 'https://api.spotify.com/v1/'"
   ]
  },
  {
   "cell_type": "code",
   "execution_count": null,
   "metadata": {},
   "outputs": [],
   "source": [
    "# A blank dictionary to store track URI, artist URI, and genres\n",
    "dict_genre = {}\n",
    "\n",
    "# Converting track_uri column to an iterable list\n",
    "track_uris = df_library['track_uri'].to_list()\n",
    "\n",
    "# Looping through track URIs and pull artist URI using the API,\n",
    "# then use artists URI to pull genres associated with that artist\n",
    "# store all these in a dictionary\n",
    "for t_uri in track_uris:\n",
    "    dict_genre[t_uri] = {'artist_uri': \"\", \"genre\":[]}\n",
    "\n",
    "    r = requests.get(BASE_URL + 'tracks/' + t_uri, headers = headers)\n",
    "    r = r.json()\n",
    "    a_uri = r['artists'][0]['uri'].split(':')[2]\n",
    "    dict_genre[t_uri]['artist_uri'] = a_uri\n",
    "\n",
    "    s = requests.get(BASE_URL + 'artists/' + a_uri, headers = headers)\n",
    "    s = s.json()\n",
    "    dict_genre[t_uri]['genres'] = s['genres']"
   ]
  }
 ],
 "metadata": {
  "interpreter": {
   "hash": "63fd5069d213b44bf678585dea6b12cceca9941eaf7f819626cde1f2670de90d"
  },
  "kernelspec": {
   "display_name": "Python 3.9.7 64-bit",
   "language": "python",
   "name": "python3"
  },
  "language_info": {
   "codemirror_mode": {
    "name": "ipython",
    "version": 3
   },
   "file_extension": ".py",
   "mimetype": "text/x-python",
   "name": "python",
   "nbconvert_exporter": "python",
   "pygments_lexer": "ipython3",
   "version": "3.9.7"
  },
  "orig_nbformat": 4
 },
 "nbformat": 4,
 "nbformat_minor": 2
}
